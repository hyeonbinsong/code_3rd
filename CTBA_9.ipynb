{
  "nbformat": 4,
  "nbformat_minor": 0,
  "metadata": {
    "colab": {
      "provenance": [],
      "authorship_tag": "ABX9TyMB/DPbUrtPyIi5oGDFzXhu",
      "include_colab_link": true
    },
    "kernelspec": {
      "name": "python3",
      "display_name": "Python 3"
    },
    "language_info": {
      "name": "python"
    }
  },
  "cells": [
    {
      "cell_type": "markdown",
      "metadata": {
        "id": "view-in-github",
        "colab_type": "text"
      },
      "source": [
        "<a href=\"https://colab.research.google.com/github/hyeonbinsong/code_3rd/blob/main/CTBA_9.ipynb\" target=\"_parent\"><img src=\"https://colab.research.google.com/assets/colab-badge.svg\" alt=\"Open In Colab\"/></a>"
      ]
    },
    {
      "cell_type": "markdown",
      "source": [
        "1. 두가지 이상의 선택, 다방향 선택구조 코딩\n",
        "- 배송료처리 3가지로 작성\n",
        "- 변수: price, 가격 10만원이상 0원,\n",
        "2만원이상 3000원, 그외 5천원"
      ],
      "metadata": {
        "id": "icz94nasMECh"
      }
    },
    {
      "cell_type": "code",
      "source": [
        "print(\"배송료를 계산합니다.\")\n",
        "print('#' * 30)\n",
        "price = int(input(\"구입금액 입력: \"))          # 사용자로부터 구입금액을 정수로 입력받습니다.\n",
        "if price >= 100000:          # 입력받은 금액이 10만원 이상인 경우 배송료는 0원입니다.\n",
        "  shipping_cost = 0\n",
        "else:\n",
        "  if price >= 200000:          # 입력받은 금액이 10만원 미만이고 20만원 이상인 경우 배송료는 3000원입니다.\n",
        "    shipping_cost = 3000\n",
        "  else:          # 입력받은 금액이 20만원 미만인 경우 배송료는 5000원입니다.\n",
        "      shipping_cost = 5000\n",
        "  print(f'배송료는 {shipping_cost}입니다.')          # 배송료를 출력합니다."
      ],
      "metadata": {
        "colab": {
          "base_uri": "https://localhost:8080/"
        },
        "id": "o-rojJDsM-6n",
        "outputId": "23972bdf-47c3-4ae5-c629-27edf294117d"
      },
      "execution_count": null,
      "outputs": [
        {
          "name": "stdout",
          "output_type": "stream",
          "text": [
            "배송료를 계산합니다.\n",
            "##############################\n",
            "구입금액 입력: 200000\n"
          ]
        }
      ]
    },
    {
      "cell_type": "markdown",
      "source": [
        "2. 환영합니다. 5번 출력, 10번 출력, 30번 출력"
      ],
      "metadata": {
        "id": "I4QGXjirOTUw"
      }
    },
    {
      "cell_type": "code",
      "source": [
        "print(\"환영합니다.\")          # \"환영합니다.\" 문장을 출력합니다.\n",
        "print(\"환영합니다.\")          # \"환영합니다.\" 문장을 출력합니다.\n",
        "print(\"환영합니다.\")          # \"환영합니다.\" 문장을 출력합니다.\n",
        "print(\"환영합니다.\")          # \"환영합니다.\" 문장을 출력합니다."
      ],
      "metadata": {
        "colab": {
          "base_uri": "https://localhost:8080/"
        },
        "id": "G_uciz5ZOaEG",
        "outputId": "4ecfb722-4953-4922-831a-f7d31b6f9755"
      },
      "execution_count": null,
      "outputs": [
        {
          "output_type": "stream",
          "name": "stdout",
          "text": [
            "환영합니다.\n",
            "환영합니다.\n",
            "환영합니다.\n"
          ]
        }
      ]
    },
    {
      "cell_type": "code",
      "source": [
        "print(\"환영합니다.\\n\" * 5)          #\"환영합니다.\"를 5번 반복해서 출력하는 코드입니다."
      ],
      "metadata": {
        "colab": {
          "base_uri": "https://localhost:8080/"
        },
        "id": "QSJanD_zOiye",
        "outputId": "74df10a8-6ee1-4a55-8a48-1ee1f0459dc0"
      },
      "execution_count": null,
      "outputs": [
        {
          "output_type": "stream",
          "name": "stdout",
          "text": [
            "환영합니다.\n",
            "환영합니다.\n",
            "환영합니다.\n",
            "환영합니다.\n",
            "환영합니다.\n",
            "\n"
          ]
        }
      ]
    },
    {
      "cell_type": "code",
      "source": [
        "count = 1          # count 변수를 1로 초기화합니다.\n",
        "while count <= 5:          # count가 5 이하인 동안 반복합니다.\n",
        "  print(\"(\", count, \")\", \"환영합니다.\")          # count 값과 \"환영합니다.\" 문장을 출력합니다.\n",
        "  print(F'({count}),환영합니다.')          # f-string을 사용하여 count 값과 \"환영합니다.\" 문장을 출력합니다.\n",
        "  #count = count + 1\n",
        "  count += 1          # count 값을 1씩 증가시킵니다."
      ],
      "metadata": {
        "colab": {
          "base_uri": "https://localhost:8080/"
        },
        "id": "OA6ba0f3SmU1",
        "outputId": "ca059976-3009-44ff-e5e2-2156fe6476d8"
      },
      "execution_count": null,
      "outputs": [
        {
          "output_type": "stream",
          "name": "stdout",
          "text": [
            "( 1 ) 환영합니다.\n",
            "(1),환영합니다.\n",
            "( 2 ) 환영합니다.\n",
            "(2),환영합니다.\n",
            "( 3 ) 환영합니다.\n",
            "(3),환영합니다.\n",
            "( 4 ) 환영합니다.\n",
            "(4),환영합니다.\n",
            "( 5 ) 환영합니다.\n",
            "(5),환영합니다.\n"
          ]
        }
      ]
    },
    {
      "cell_type": "markdown",
      "source": [
        "3. 0부터 9까지 출력하는 코드 작성\n",
        "- 변수: x"
      ],
      "metadata": {
        "id": "3-3jSnY-UvdP"
      }
    },
    {
      "cell_type": "code",
      "source": [
        "x = 0         # x 변수를 0으로 초기화합니다.\n",
        "while x < 10:          # x가 10보다 작은 동안 반복합니다.\n",
        "  print(x, end=' ')          # x 값을 출력하고 공백 문자로 끝을 나타냅니다.\n",
        "  x += 1          # x 값을 1씩 증가시킵니다."
      ],
      "metadata": {
        "colab": {
          "base_uri": "https://localhost:8080/"
        },
        "id": "VnlQuNf5U4X8",
        "outputId": "4b0f782f-9fc3-486c-afd3-62b0f96ff77b"
      },
      "execution_count": null,
      "outputs": [
        {
          "output_type": "stream",
          "name": "stdout",
          "text": [
            "0 1 2 3 4 5 6 7 8 9 "
          ]
        }
      ]
    },
    {
      "cell_type": "markdown",
      "source": [
        "4. 1부터 10까지 정수의 합을 계산하여 출력하는 코드"
      ],
      "metadata": {
        "id": "aeXQa_LSYiAj"
      }
    },
    {
      "cell_type": "code",
      "source": [
        "x = 1          # x 변수를 1로 초기화합니다.\n",
        "total = 0          # total 변수를 0으로 초기화합니다.\n",
        "while x <= 10:          # x가 10 이하인 동안 반복합니다.\n",
        "  total = total + x          # total에 x 값을 더합니다.\n",
        "  x += 1          # x 값을 1씩 증가시킵니다.\n",
        "  print(total)          # 현재까지의 total 값을 출력합니다."
      ],
      "metadata": {
        "colab": {
          "base_uri": "https://localhost:8080/"
        },
        "id": "Gzu_HUmdYoOj",
        "outputId": "24f9985f-32ce-46d9-f4b4-14239e41e8bc"
      },
      "execution_count": null,
      "outputs": [
        {
          "output_type": "stream",
          "name": "stdout",
          "text": [
            "1\n",
            "3\n",
            "6\n",
            "10\n",
            "15\n",
            "21\n",
            "28\n",
            "36\n",
            "45\n",
            "55\n"
          ]
        }
      ]
    },
    {
      "cell_type": "code",
      "source": [
        "x += 1          # x 변수를 1로 초기화합니다.\n",
        "total = 0          # total 변수를 0으로 초기화합니다.\n",
        "while x <= 10:          # x가 10 이하인 동안 반복합니다.\n",
        "  total = total + x          # total에 x 값을 더합니다.\n",
        "  x += 1          # x 값을 1씩 증가시킵니다.\n",
        "  print(total)          # 현재까지의 total 값을 출력합니다."
      ],
      "metadata": {
        "id": "OSSJbqRcZFFC"
      },
      "execution_count": null,
      "outputs": []
    },
    {
      "cell_type": "markdown",
      "source": [
        "4. 3-6-9 게임(3의 배수 판단): 3의 배수를 3으로 나누면 나머지가 0이 되므로(i mod 3)의 값이 0이면 박수를 출력, 아니면 숫자를 출력해주는 코드 작성"
      ],
      "metadata": {
        "id": "ZNyG28bjVpzN"
      }
    },
    {
      "cell_type": "code",
      "source": [
        "i = 1                              #변수 i는 0으로 선언\n",
        "while i <= 30:                     #반복은 while사용해서 i가 30보다 작거나 같은 때\n",
        "  if i % 3 == 0:                   #만약 i값을 3으로 나눈 나머지가 0이면\n",
        "   print(\"박수\", end=' ')          #박수를 출력하고 공백을 하나 만듦\n",
        "  else:                            #위의 것이 아니면,\n",
        "    print(i, end=' ')              #i값만 출력하고 공백 하나 만듦\n",
        "  i += 1                           #변수 i값에 i와 1을 더해서 다시 변수 i에 선언"
      ],
      "metadata": {
        "colab": {
          "base_uri": "https://localhost:8080/"
        },
        "id": "QSVO2yS-WBT7",
        "outputId": "d1d37b79-5ccc-4063-eb74-9753b6b2a3a9"
      },
      "execution_count": null,
      "outputs": [
        {
          "output_type": "stream",
          "name": "stdout",
          "text": [
            "1 2 박수 4 5 박수 7 8 박수 10 11 박수 13 14 박수 16 17 박수 19 20 박수 22 23 박수 25 26 박수 28 29 박수 "
          ]
        }
      ]
    },
    {
      "cell_type": "code",
      "source": [
        "for num in range(1,11)              #1부터 11까지의 숫자를 반복\n",
        "  if num %3 == 0:                   #숫자(num)를 3으로 나눈 나머지가 0인 경우\n",
        "    print(\"박수\", end=' ')          #박수를 출력하고 공백 만듦\n",
        "  else:                             #그게 아니면\n",
        "    print(num, end=' ')             #숫자만 출력하고 공백 만듦"
      ],
      "metadata": {
        "id": "-9Tv6TW6ZNXM"
      },
      "execution_count": null,
      "outputs": []
    },
    {
      "cell_type": "markdown",
      "source": [
        "6. 팩토리얼 계산하는 코드 작성"
      ],
      "metadata": {
        "id": "JtOmJPxDaeXj"
      }
    },
    {
      "cell_type": "code",
      "source": [
        "i = int(input(\"팩토리얼 값입력: \"))          # 사용자로부터 정수 값을 입력받아 i 변수에 저장합니다.\n",
        "factorial = 1          # factorial 변수를 1로 초기화합니다.\n",
        "while i >= 1:          # i가 1 이상인 동안 반복합니다.\n",
        "  factorial = factorial * i          # factorial에 i 값을 곱합니다.\n",
        "  i -= 1          # i 값을 1씩 감소시킵니다.\n",
        "print(factorial)          # 최종적인 factorial 값을 출력합니다."
      ],
      "metadata": {
        "colab": {
          "base_uri": "https://localhost:8080/"
        },
        "id": "V71EqZoxajF9",
        "outputId": "5e601992-9139-4ece-ebb8-78e8125634d9"
      },
      "execution_count": null,
      "outputs": [
        {
          "output_type": "stream",
          "name": "stdout",
          "text": [
            "팩토리얼 값입력: 5\n",
            "120\n"
          ]
        }
      ]
    },
    {
      "cell_type": "code",
      "source": [
        "num = int(input(\"팩토리얼 값입력: \"))          # 사용자로부터 정수 값을 입력받아 num 변수에 저장합니다.\n",
        "factorial = 1          # factorial 변수를 1로 초기화합니다.\n",
        "while num >= 1:          # num이 1 이상인 동안 반복합니다.\n",
        "  factorial = factorial * num          # factorial에 num 값을 곱합니다.\n",
        "  num -= 1          # num 값을 1씩 감소시킵니다.\n",
        "print(\"계산된 팩토리얼 값은 :\", factorial)          # 계산된 팩토리얼 값을 출력합니다."
      ],
      "metadata": {
        "colab": {
          "base_uri": "https://localhost:8080/"
        },
        "id": "Rgn1akVxa2ak",
        "outputId": "7bcb674f-8cd7-4777-c7b2-d6ec239cd155"
      },
      "execution_count": null,
      "outputs": [
        {
          "output_type": "stream",
          "name": "stdout",
          "text": [
            "팩토리얼 값입력: 5\n",
            "계산된 팩토리얼 값은 : 120\n"
          ]
        }
      ]
    },
    {
      "cell_type": "markdown",
      "source": [
        "count += 1에서 += 가 무슨 뜻인지 알아보기.\n",
        "\n",
        "더하기 할당 연산자 += 는 오른쪽 피연산자의 값을 변수에 더한 결과를 다시 변수에 할당하는 걸 뜻한다.\n",
        "두 피연산자의 타입이 더하기 할당 연산자의 동작을 결정하며, 덧셈 또는 문자열 연결이 가능하다."
      ],
      "metadata": {
        "id": "o9aMEDF1uMFw"
      }
    }
  ]
}