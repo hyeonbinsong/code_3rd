{
  "nbformat": 4,
  "nbformat_minor": 0,
  "metadata": {
    "colab": {
      "provenance": [],
      "authorship_tag": "ABX9TyMYr6WS3wkdg8g844dDxNM9",
      "include_colab_link": true
    },
    "kernelspec": {
      "name": "python3",
      "display_name": "Python 3"
    },
    "language_info": {
      "name": "python"
    }
  },
  "cells": [
    {
      "cell_type": "markdown",
      "metadata": {
        "id": "view-in-github",
        "colab_type": "text"
      },
      "source": [
        "<a href=\"https://colab.research.google.com/github/hyeonbinsong/code_3rd/blob/main/CTBA_9.ipynb\" target=\"_parent\"><img src=\"https://colab.research.google.com/assets/colab-badge.svg\" alt=\"Open In Colab\"/></a>"
      ]
    },
    {
      "cell_type": "markdown",
      "source": [
        "1. 두가지 이상의 선택, 다방향 선택구조 코딩\n",
        "- 배송료처리 3가지로 작성\n",
        "- 변수: price, 가격 10만원이상 0원,\n",
        "2만원이상 3000원, 그외 5천원"
      ],
      "metadata": {
        "id": "icz94nasMECh"
      }
    },
    {
      "cell_type": "code",
      "source": [
        "print(\"배송료를 계산합니다.\")\n",
        "print('#' * 30)\n",
        "price = int(input(\"구입금액 입력: \"))\n",
        "if price >= 100000:\n",
        "  shipping_cost = 0\n",
        "else:\n",
        "  if price >= 200000:\n",
        "    shipping_cost = 3000\n",
        "  else:\n",
        "      shipping_cost = 5000\n",
        "  print(f'배송료는 {shipping_cost}입니다.')"
      ],
      "metadata": {
        "colab": {
          "base_uri": "https://localhost:8080/"
        },
        "id": "o-rojJDsM-6n",
        "outputId": "23972bdf-47c3-4ae5-c629-27edf294117d"
      },
      "execution_count": null,
      "outputs": [
        {
          "name": "stdout",
          "output_type": "stream",
          "text": [
            "배송료를 계산합니다.\n",
            "##############################\n",
            "구입금액 입력: 200000\n"
          ]
        }
      ]
    },
    {
      "cell_type": "markdown",
      "source": [
        "2. 환영합니다. 5번 출력, 10번 출력, 30번 출력"
      ],
      "metadata": {
        "id": "I4QGXjirOTUw"
      }
    },
    {
      "cell_type": "code",
      "source": [
        "print(\"환영합니다.\")\n",
        "print(\"환영합니다.\")\n",
        "print(\"환영합니다.\")\n",
        "print(\"환영합니다.\")"
      ],
      "metadata": {
        "colab": {
          "base_uri": "https://localhost:8080/"
        },
        "id": "G_uciz5ZOaEG",
        "outputId": "4ecfb722-4953-4922-831a-f7d31b6f9755"
      },
      "execution_count": null,
      "outputs": [
        {
          "output_type": "stream",
          "name": "stdout",
          "text": [
            "환영합니다.\n",
            "환영합니다.\n",
            "환영합니다.\n"
          ]
        }
      ]
    },
    {
      "cell_type": "code",
      "source": [
        "print(\"환영합니다.\\n\" * 5)"
      ],
      "metadata": {
        "colab": {
          "base_uri": "https://localhost:8080/"
        },
        "id": "QSJanD_zOiye",
        "outputId": "74df10a8-6ee1-4a55-8a48-1ee1f0459dc0"
      },
      "execution_count": null,
      "outputs": [
        {
          "output_type": "stream",
          "name": "stdout",
          "text": [
            "환영합니다.\n",
            "환영합니다.\n",
            "환영합니다.\n",
            "환영합니다.\n",
            "환영합니다.\n",
            "\n"
          ]
        }
      ]
    },
    {
      "cell_type": "code",
      "source": [
        "count = 1\n",
        "while count <= 5:\n",
        "  print(\"(\", count, \")\", \"환영합니다.\")\n",
        "  print(F'({count}),환영합니다.')\n",
        "  #count = count + 1\n",
        "  count += 1"
      ],
      "metadata": {
        "colab": {
          "base_uri": "https://localhost:8080/"
        },
        "id": "OA6ba0f3SmU1",
        "outputId": "ca059976-3009-44ff-e5e2-2156fe6476d8"
      },
      "execution_count": null,
      "outputs": [
        {
          "output_type": "stream",
          "name": "stdout",
          "text": [
            "( 1 ) 환영합니다.\n",
            "(1),환영합니다.\n",
            "( 2 ) 환영합니다.\n",
            "(2),환영합니다.\n",
            "( 3 ) 환영합니다.\n",
            "(3),환영합니다.\n",
            "( 4 ) 환영합니다.\n",
            "(4),환영합니다.\n",
            "( 5 ) 환영합니다.\n",
            "(5),환영합니다.\n"
          ]
        }
      ]
    },
    {
      "cell_type": "markdown",
      "source": [
        "3. 0부터 9까지 출력하는 코드 작성\n",
        "- 변수: x"
      ],
      "metadata": {
        "id": "3-3jSnY-UvdP"
      }
    },
    {
      "cell_type": "code",
      "source": [
        "x = 0\n",
        "while x < 10:\n",
        "  print(x, end=' ')\n",
        "  x += 1"
      ],
      "metadata": {
        "colab": {
          "base_uri": "https://localhost:8080/"
        },
        "id": "VnlQuNf5U4X8",
        "outputId": "4b0f782f-9fc3-486c-afd3-62b0f96ff77b"
      },
      "execution_count": null,
      "outputs": [
        {
          "output_type": "stream",
          "name": "stdout",
          "text": [
            "0 1 2 3 4 5 6 7 8 9 "
          ]
        }
      ]
    },
    {
      "cell_type": "markdown",
      "source": [
        "4. 1부터 10까지 정수의 합을 계산하여 출력하는 코드"
      ],
      "metadata": {
        "id": "aeXQa_LSYiAj"
      }
    },
    {
      "cell_type": "code",
      "source": [
        "x = 1\n",
        "total = 0\n",
        "while x <= 10:\n",
        "  total = total + x\n",
        "  x += 1\n",
        "  print(total)"
      ],
      "metadata": {
        "colab": {
          "base_uri": "https://localhost:8080/"
        },
        "id": "Gzu_HUmdYoOj",
        "outputId": "24f9985f-32ce-46d9-f4b4-14239e41e8bc"
      },
      "execution_count": 29,
      "outputs": [
        {
          "output_type": "stream",
          "name": "stdout",
          "text": [
            "1\n",
            "3\n",
            "6\n",
            "10\n",
            "15\n",
            "21\n",
            "28\n",
            "36\n",
            "45\n",
            "55\n"
          ]
        }
      ]
    },
    {
      "cell_type": "code",
      "source": [
        "x += 1\n",
        "total = 0\n",
        "while x <= 10:\n",
        "  total = total + x\n",
        "  x += 1\n",
        "  print(total)"
      ],
      "metadata": {
        "id": "OSSJbqRcZFFC"
      },
      "execution_count": 32,
      "outputs": []
    },
    {
      "cell_type": "markdown",
      "source": [
        "4. 3-6-9 게임(3의 배수 판단): 3의 배수를 3으로 나누면 나머지가 0이 되므로(i mod 3)의 값이 0이면 박수를 출력, 아니면 숫자를 출력해주는 코드 작성"
      ],
      "metadata": {
        "id": "ZNyG28bjVpzN"
      }
    },
    {
      "cell_type": "code",
      "source": [
        "i = 1                              #변수 i는 0으로 선언\n",
        "while i <= 30:                     #반복은 while사용해서 i가 30보다 작거나 같은 때\n",
        "  if i % 3 == 0:                   #만약 i값을 3으로 나눈 나머지가 0이면\n",
        "   print(\"박수\", end=' ')          #박수를 출력하고 공백을 하나 만듦\n",
        "  else:                            #위의 것이 아니면,\n",
        "    print(i, end=' ')              #i값만 출력하고 공백 하나 만듦\n",
        "  i += 1                           #변수 i값에 i와 1을 더해서 다시 변수 i에 선언"
      ],
      "metadata": {
        "colab": {
          "base_uri": "https://localhost:8080/"
        },
        "id": "QSVO2yS-WBT7",
        "outputId": "d1d37b79-5ccc-4063-eb74-9753b6b2a3a9"
      },
      "execution_count": 26,
      "outputs": [
        {
          "output_type": "stream",
          "name": "stdout",
          "text": [
            "1 2 박수 4 5 박수 7 8 박수 10 11 박수 13 14 박수 16 17 박수 19 20 박수 22 23 박수 25 26 박수 28 29 박수 "
          ]
        }
      ]
    },
    {
      "cell_type": "code",
      "source": [
        "for num in range(1,11)              #1부터 11까지의 숫자를 반복\n",
        "  if num %3 == 0:                   #숫자(num)를 3으로 나눈 나머지가 0인 경우\n",
        "    print(\"박수\", end=' ')          #박수를 출력하고 공백 만듦\n",
        "  else:                             #그게 아니면\n",
        "    print(num, end=' ')             #숫자만 출력하고 공백 만듦"
      ],
      "metadata": {
        "id": "-9Tv6TW6ZNXM"
      },
      "execution_count": null,
      "outputs": []
    },
    {
      "cell_type": "markdown",
      "source": [
        "6. 팩토리얼 계산하는 코드 작성"
      ],
      "metadata": {
        "id": "JtOmJPxDaeXj"
      }
    },
    {
      "cell_type": "code",
      "source": [
        "i = int(input(\"팩토리얼 값입력: \"))\n",
        "factorial = 1\n",
        "while i >= 1:\n",
        "  factorial = factorial * i\n",
        "  i -= 1\n",
        "print(factorial)"
      ],
      "metadata": {
        "colab": {
          "base_uri": "https://localhost:8080/"
        },
        "id": "V71EqZoxajF9",
        "outputId": "5e601992-9139-4ece-ebb8-78e8125634d9"
      },
      "execution_count": 40,
      "outputs": [
        {
          "output_type": "stream",
          "name": "stdout",
          "text": [
            "팩토리얼 값입력: 5\n",
            "120\n"
          ]
        }
      ]
    },
    {
      "cell_type": "code",
      "source": [
        "num = int(input(\"팩토리얼 값입력: \"))\n",
        "factorial = 1\n",
        "while num >= 1:\n",
        "  factorial = factorial * num\n",
        "  num -= 1\n",
        "print(\"계산된 팩토리얼 값은 :\", factorial)"
      ],
      "metadata": {
        "colab": {
          "base_uri": "https://localhost:8080/"
        },
        "id": "Rgn1akVxa2ak",
        "outputId": "7bcb674f-8cd7-4777-c7b2-d6ec239cd155"
      },
      "execution_count": 36,
      "outputs": [
        {
          "output_type": "stream",
          "name": "stdout",
          "text": [
            "팩토리얼 값입력: 5\n",
            "계산된 팩토리얼 값은 : 120\n"
          ]
        }
      ]
    }
  ]
}