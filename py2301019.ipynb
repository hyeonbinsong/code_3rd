{
  "nbformat": 4,
  "nbformat_minor": 0,
  "metadata": {
    "colab": {
      "provenance": [],
      "authorship_tag": "ABX9TyPN4nSlasVeuJCiClraOUd9",
      "include_colab_link": true
    },
    "kernelspec": {
      "name": "python3",
      "display_name": "Python 3"
    },
    "language_info": {
      "name": "python"
    }
  },
  "cells": [
    {
      "cell_type": "markdown",
      "metadata": {
        "id": "view-in-github",
        "colab_type": "text"
      },
      "source": [
        "<a href=\"https://colab.research.google.com/github/hyeonbinsong/code_3rd/blob/main/py2301019.ipynb\" target=\"_parent\"><img src=\"https://colab.research.google.com/assets/colab-badge.svg\" alt=\"Open In Colab\"/></a>"
      ]
    },
    {
      "cell_type": "code",
      "execution_count": null,
      "metadata": {
        "id": "vJkx5zPiuFWr"
      },
      "outputs": [],
      "source": [
        "\n",
        "\n",
        "\n"
      ]
    },
    {
      "cell_type": "markdown",
      "source": [],
      "metadata": {
        "id": "2SMzETrPvvt4"
      }
    },
    {
      "cell_type": "markdown",
      "source": [
        "1. To-Do List를 작성하시오.\n",
        "  - 2023년 10월 19일 송현빈\n",
        "  - (1) 09:20 도서관에서 책 빌리기\n",
        "  - (2) 11:10 컴퓨팅적사고와 기초코딩 수업\n",
        "  - (3) 13:00 점식식사\n",
        "  - (4) 14:10 교양수업\n",
        "  - (5) 16:00 파이썬 공부 및 레포트 작성\n",
        "  - (6) 17:40 저녁식사 및 집안일 돕기\n",
        "  - (7) 19:00 LOL 하기"
      ],
      "metadata": {
        "id": "gF1x6GKtvyLX"
      }
    },
    {
      "cell_type": "code",
      "source": [
        "print('2023년 10월19일 송현빈')\n",
        "print('(1) 09:20 도서관에서 책 빌리기')\n",
        "print('(2) 11:10 컴퓨팅적사고와 기초코딩 수업')\n",
        "print('(3) 13:00 점식식사')\n",
        "print('(4) 14:10 교양수업')\n",
        "print('(5) 16:00 파이썬 공부 및 레포트 작성')\n",
        "print('(6) 17:40 저녁식사 및 집안일 돕기')\n",
        "print('(7) 19:00 LOL 하기')\n"
      ],
      "metadata": {
        "colab": {
          "base_uri": "https://localhost:8080/"
        },
        "id": "pSJOL6B1xww_",
        "outputId": "ac3e3578-7de7-464e-828c-2281fbb1afd0"
      },
      "execution_count": 7,
      "outputs": [
        {
          "output_type": "stream",
          "name": "stdout",
          "text": [
            "2023년 10월19일 송현빈\n",
            "(1) 09:20 도서관에서 책 빌리기\n",
            "(2) 11:10 컴퓨팅적사고와 기초코딩 수업\n",
            "(3) 13:00 점식식사\n",
            "(4) 14:10 교양수업\n",
            "(5) 16:00 파이썬 공부 및 레포트 작성\n",
            "(6) 17:40 저녁식사 및 집안일 돕기\n",
            "(7) 19:00 LOL 하기\n"
          ]
        }
      ]
    },
    {
      "cell_type": "markdown",
      "source": [
        "2. 인사말 출력하기\n",
        " - 식사하셨습니까? 행님"
      ],
      "metadata": {
        "id": "DZNxCopewUY4"
      }
    },
    {
      "cell_type": "code",
      "source": [
        "print('식사하셨습니까? 행님')"
      ],
      "metadata": {
        "colab": {
          "base_uri": "https://localhost:8080/"
        },
        "id": "fJtLx7M11Jxl",
        "outputId": "a17285fe-949a-403a-a07a-c6c9e2fe24d3"
      },
      "execution_count": 8,
      "outputs": [
        {
          "output_type": "stream",
          "name": "stdout",
          "text": [
            "식사하셨습니까? 행님\n"
          ]
        }
      ]
    },
    {
      "cell_type": "markdown",
      "source": [
        "3. 학생 4명의 국어점슈룰 입력받아서 아래와 같이 출력하시오.\n",
        " - 박보검: 90점\n",
        " - 션    : 92점\n",
        " - 도룡용: 80점\n",
        " - 차은우: 99점\n",
        " - 국어 점수 순위\n",
        " - 1등 차은우\n",
        " - 2등 션\n",
        " - 3등 박보검\n",
        " - 4등 도룡용"
      ],
      "metadata": {
        "id": "bS5Uv2BYwtLP"
      }
    },
    {
      "cell_type": "code",
      "source": [
        "n1 = (input(\"학생 점수를 입력하시오.:\"))\n",
        "n2 = (input(\"학생 점수를 입력하시오.:\"))\n",
        "n3 = (input(\"학생 점수를 입력하시오.:\"))\n",
        "n4 = (input(\"학생 점수를 입력하시오.:\"))\n",
        "print('1등', n4)\n",
        "print('2등', n3)\n",
        "print('3등', n2)\n",
        "print('4등', n1)\n"
      ],
      "metadata": {
        "colab": {
          "base_uri": "https://localhost:8080/"
        },
        "id": "jmztdStU1TDk",
        "outputId": "773c1d67-6803-42ed-8fbe-1a2132146a99"
      },
      "execution_count": 26,
      "outputs": [
        {
          "output_type": "stream",
          "name": "stdout",
          "text": [
            "학생 점수를 입력하시오.:박보검 90점\n",
            "학생 점수를 입력하시오.:션 92점\n",
            "학생 점수를 입력하시오.:도룡용 80점\n",
            "학생 점수를 입력하시오.:차은우 99점\n",
            "1등 차은우 99점\n",
            "2등 도룡용 80점\n",
            "3등 션 92점\n",
            "4등 박보검 90점\n"
          ]
        }
      ]
    },
    {
      "cell_type": "markdown",
      "source": [
        "4. 두개의 점수를 입력받아서 합계를 출력하시오."
      ],
      "metadata": {
        "id": "5pJUOmi8xhNH"
      }
    },
    {
      "cell_type": "code",
      "source": [
        "n1 = int(input(\"N1의 값을 입력하시오.:\"))\n",
        "n2 = int(input(\"N2의 값을 입력하시오.:\"))\n",
        "total = n1 + n2\n",
        "average = total / 2\n",
        "print(average)"
      ],
      "metadata": {
        "colab": {
          "base_uri": "https://localhost:8080/"
        },
        "id": "ZTsD2QW34RUc",
        "outputId": "0fde1a6b-f8a8-408d-ffd0-4fcd9d953444"
      },
      "execution_count": 20,
      "outputs": [
        {
          "output_type": "stream",
          "name": "stdout",
          "text": [
            "N1의 값을 입력하시오.:30\n",
            "N2의 값을 입력하시오.:40\n",
            "35.0\n"
          ]
        }
      ]
    }
  ]
}