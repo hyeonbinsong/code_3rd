{
  "nbformat": 4,
  "nbformat_minor": 0,
  "metadata": {
    "colab": {
      "provenance": [],
      "authorship_tag": "ABX9TyOuqQIOCJUxf3EkRho3+O/v",
      "include_colab_link": true
    },
    "kernelspec": {
      "name": "python3",
      "display_name": "Python 3"
    },
    "language_info": {
      "name": "python"
    }
  },
  "cells": [
    {
      "cell_type": "markdown",
      "metadata": {
        "id": "view-in-github",
        "colab_type": "text"
      },
      "source": [
        "<a href=\"https://colab.research.google.com/github/hyeonbinsong/code_3rd/blob/main/CTBL_1.ipynb\" target=\"_parent\"><img src=\"https://colab.research.google.com/assets/colab-badge.svg\" alt=\"Open In Colab\"/></a>"
      ]
    },
    {
      "cell_type": "markdown",
      "source": [
        "1. 학생으로부터 성적을 입력받아 합격유무를 출력하는 코드작성\n",
        "- 사용변수: Grade\n",
        "- 사용수식: Grade >= 70:"
      ],
      "metadata": {
        "id": "_PW-nqFR0tGb"
      }
    },
    {
      "cell_type": "code",
      "source": [
        "Grade = int(input(\"성적입력: \"))          # 사용자로부터 성적을 정수로 입력받습니다.\n",
        "if Grade >= 70:          # 입력받은 성적이 70점 이상인지 확인합니다.\n",
        "  print(\"70점 이상이므로 합격\")\n",
        "else:          # 입력받은 성적이 70점 미만인 경우 불합격입니다.\n",
        "  print(\"70점 이하는 불합격\")"
      ],
      "metadata": {
        "colab": {
          "base_uri": "https://localhost:8080/"
        },
        "id": "5Cu5KOQe3sQ5",
        "outputId": "898bddf4-de3c-4421-bc7f-a1d23f4e691b"
      },
      "execution_count": null,
      "outputs": [
        {
          "output_type": "stream",
          "name": "stdout",
          "text": [
            "성적입력: 70\n",
            "70점 이상이므로 합격\n"
          ]
        }
      ]
    },
    {
      "cell_type": "markdown",
      "source": [
        "2. 쇼핑몰의 배송료를 계산하는 코드 작성\n",
        "- 변수면 : prise, shipping_cost\n",
        "- 수식 : price >= 20000\n",
        "- shipping_cost = 3000"
      ],
      "metadata": {
        "id": "fgxRGldC3xTw"
      }
    },
    {
      "cell_type": "code",
      "source": [
        "price = int(input(\"구입금액 입력: \"))          # 사용자로부터 구입금액을 정수로 입력받습니다.\n",
        "if price >= 20000:          # 입력받은 금액이 2만원 이상인지 확인합니다.\n",
        "  shipping_cost = 0          # 배송료는 0원입니다.\n",
        "  print(f'구입금액이 {price}원 이상입니다.')\n",
        "else:\n",
        "  shipping_cost = 3000          # 배송료는 3000원입니다.\n",
        "  print(\"구입금액이 2만원 이하입니다\")\n",
        "print(f'회원님의 배송료는 {shipping_cost}입니다.')          # 배송료를 출력합니다."
      ],
      "metadata": {
        "colab": {
          "base_uri": "https://localhost:8080/"
        },
        "id": "ybKMCk9_45r5",
        "outputId": "0db204e9-6c7c-4640-f5f2-b6270229c940"
      },
      "execution_count": null,
      "outputs": [
        {
          "output_type": "stream",
          "name": "stdout",
          "text": [
            "구입금액 입력: 20001\n",
            "구입금액이 20001원 이상입니다.\n",
            "회원님의 배송료는 0입니다.\n"
          ]
        }
      ]
    },
    {
      "cell_type": "markdown",
      "source": [
        "3. 근무시간에 따라 초과근무와 정상근무를 판별하는 코드작성\n",
        "- 변수 : work_hour\n",
        "- 수식 : >= , 기준시간:72시간\n"
      ],
      "metadata": {
        "id": "lyFO48wS7I7I"
      }
    },
    {
      "cell_type": "code",
      "source": [
        "work_hour = int(input(\"근무시간 입력: \"))          # 사용자로부터 근무시간을 정수로 입력받습니다.\n",
        "if work_hour >= 72:          # 입력받은 근무시간이 72시간 이상인지 확인합니다.\n",
        "  print(\"초과근무하였습니다.\")\n",
        "else:\n",
        "  print(\"정상근무하였습니다.\")"
      ],
      "metadata": {
        "colab": {
          "base_uri": "https://localhost:8080/"
        },
        "id": "8SBQ2X1z8b9I",
        "outputId": "ee4435d6-1ae0-4a7d-bb14-469560d2b283"
      },
      "execution_count": null,
      "outputs": [
        {
          "output_type": "stream",
          "name": "stdout",
          "text": [
            "근무시간 입력: 72\n",
            "초과근무하였습니다.\n"
          ]
        }
      ]
    },
    {
      "cell_type": "markdown",
      "source": [
        "4. 정수를 입력받아서 짝수인지 홀수인지 판별하는 코드 작성\n",
        "- 변수: num\n",
        "- 수식: (num % 2) != 0:"
      ],
      "metadata": {
        "id": "_gR3Vy7e9_T4"
      }
    },
    {
      "cell_type": "code",
      "source": [
        "num = int(input(\"정수를 입력하시오: \"))          # 사용자로부터 정수를 입력받습니다.\n",
        "if (num % 2) != 0:          # 입력받은 정수를 2로 나눈 나머지가 0이 아닌지 확인하여 홀수인지 판단합니다.\n",
        "  print(\"홀수입니다.\")\n",
        "else:\n",
        "  print(\"짝수입니다.\")"
      ],
      "metadata": {
        "colab": {
          "base_uri": "https://localhost:8080/"
        },
        "id": "ufOWwexg-uAe",
        "outputId": "1f0de402-4c33-425a-98a3-2b18e6064ffe"
      },
      "execution_count": null,
      "outputs": [
        {
          "output_type": "stream",
          "name": "stdout",
          "text": [
            "정수를 입력하시오: 4\n",
            "짝수입니다.\n"
          ]
        }
      ]
    },
    {
      "cell_type": "markdown",
      "source": [
        "5. 사용자의 이름과 나이를 입력받고, 답변하는 코드 작성\n",
        "- 입력 : 성명 - name\n",
        "- 입력 : 나이 - age\n",
        "- 수식 : if age <= 20:\n",
        "\n",
        "최종 출력물\n",
        "- 이름을 입력하시오.: 송현빈\n",
        "- 나이를 입력하시오.: 20\n",
        "- (1) 프로그래밍을 배우는 최적의 나이입니다.\n",
        "- (2) 아직도 늦지 않았습니다. 도전정신"
      ],
      "metadata": {
        "id": "iZYuPpLTAnVm"
      }
    },
    {
      "cell_type": "markdown",
      "source": [
        "name = input(\"이름을 입력하시오.: \")\n",
        "age = int(input(\"나이를 입력하시오.: \"))\n",
        "if age <= 20:\n",
        "  print(\"프로그래밍을 배우는 최적의 나이입니다.\")\n",
        "else:\n",
        "  print(\"아직도 늦지 않았습니다. 도전정신\")"
      ],
      "metadata": {
        "id": "Wd5QddGbBcfG"
      }
    },
    {
      "cell_type": "code",
      "source": [
        "import random  # 파이썬 내장 라이브러리인 random을 불러옵니다. 이를 통해 랜덤한 숫자를 생성할 수 있습니다.\n",
        "\n",
        "def generate_lotto_numbers():  # 로또 번호를 생성하는 함수를 정의합니다.\n",
        "    numbers = []  # 빈 리스트를 만들어 줍니다. 이곳에 생성된 로또 번호를 저장할 예정입니다.\n",
        "\n",
        "    while len(numbers) < 6:  # 로또 번호는 6개이므로, 리스트의 길이가 6보다 작은 동안에는 계속해서 반복합니다.\n",
        "        number = random.randint(1, 45)  # 1부터 45까지의 랜덤한 숫자를 하나 생성합니다.\n",
        "        if number not in numbers:  # 만약 생성된 숫자가 이미 리스트에 있지 않다면,\n",
        "            numbers.append(number)  # 리스트에 추가합니다.\n",
        "\n",
        "    numbers.sort()  # 생성된 로또 번호를 오름차순으로 정렬합니다.\n",
        "    return numbers  # 최종적으로 생성된 로또 번호를 반환합니다.\n",
        "\n",
        "print(generate_lotto_numbers())  # 로또 번호를 생성하는 함수를 호출하고, 그 결과를 출력합니다."
      ],
      "metadata": {
        "colab": {
          "base_uri": "https://localhost:8080/"
        },
        "id": "wmcaWS0qFGfG",
        "outputId": "93a8c449-845b-4fa2-c7b9-99e33082db78"
      },
      "execution_count": null,
      "outputs": [
        {
          "output_type": "stream",
          "name": "stdout",
          "text": [
            "[3, 11, 12, 25, 33, 38]\n"
          ]
        }
      ]
    },
    {
      "cell_type": "code",
      "source": [
        "name = input(\"이름을 입력해주세요: \")  # input 함수를 사용하여 사용자의 이름을 입력받습니다.\n",
        "age = int(input(\"나이를 입력해주세요: \"))  # input 함수를 사용하여 사용자의 나이를 입력받습니다. 입력받은 나이는 문자열이므로, int 함수를 사용하여 정수로 변환합니다.\n",
        "\n",
        "if 20 <= age <= 29:  # 만약 사용자의 나이가 20대라면,\n",
        "    print(f\"{name}님, 프로그래밍을 배우는 최적의 나이입니다.\")  # f-string을 사용하여 사용자의 이름을 포함한 메시지를 출력합니다.\n",
        "else:  # 만약 사용자의 나이가 20대가 아니라면,\n",
        "    print(f\"{name}님, 아직도 늦지 않았습니다. 도전!\")  # f-string을 사용하여 사용자의 이름을 포함한 메시지를 출력합니다."
      ],
      "metadata": {
        "colab": {
          "base_uri": "https://localhost:8080/"
        },
        "id": "_57NRH27Guf1",
        "outputId": "da6640b0-a92d-4d46-a230-cefb88538da6"
      },
      "execution_count": null,
      "outputs": [
        {
          "output_type": "stream",
          "name": "stdout",
          "text": [
            "이름을 입력해주세요: 송현빈\n",
            "나이를 입력해주세요: 20\n",
            "송현빈님, 프로그래밍을 배우는 최적의 나이입니다.\n"
          ]
        }
      ]
    }
  ]
}