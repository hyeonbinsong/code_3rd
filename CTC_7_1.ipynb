{
  "nbformat": 4,
  "nbformat_minor": 0,
  "metadata": {
    "colab": {
      "provenance": [],
      "authorship_tag": "ABX9TyPMLiWKfL347CwigiZx5REZ",
      "include_colab_link": true
    },
    "kernelspec": {
      "name": "python3",
      "display_name": "Python 3"
    },
    "language_info": {
      "name": "python"
    }
  },
  "cells": [
    {
      "cell_type": "markdown",
      "metadata": {
        "id": "view-in-github",
        "colab_type": "text"
      },
      "source": [
        "<a href=\"https://colab.research.google.com/github/hyeonbinsong/code_3rd/blob/main/CTC_7_1.ipynb\" target=\"_parent\"><img src=\"https://colab.research.google.com/assets/colab-badge.svg\" alt=\"Open In Colab\"/></a>"
      ]
    },
    {
      "cell_type": "code",
      "execution_count": null,
      "metadata": {
        "id": "DymloL-gG67-"
      },
      "outputs": [],
      "source": []
    },
    {
      "cell_type": "markdown",
      "source": [
        "1. 사용자로부터 3개의 값(x,y,z)을 입력받아서 각각 1씩 증가되고, 출력되는 코드작성"
      ],
      "metadata": {
        "id": "C9fTkEr7G7ha"
      }
    },
    {
      "cell_type": "code",
      "source": [
        "x = int(input(\"x의 값을 입력하시오.:\"))\n",
        "y = int(input(\"y의 값을 입력하시오.:\"))\n",
        "z = int(input(\"z의 값을 입력하시오.:\"))\n",
        "x = x + 1\n",
        "y = y + 1\n",
        "z = z + 1\n",
        "print (f'x의 값은 {x}이며, y의 값은 {y}이고, z의 값은 {z}이다.')"
      ],
      "metadata": {
        "colab": {
          "base_uri": "https://localhost:8080/"
        },
        "id": "_m99E3yLI2H5",
        "outputId": "cb690c24-4b4e-42f5-8e63-84b8414a9a37"
      },
      "execution_count": null,
      "outputs": [
        {
          "output_type": "stream",
          "name": "stdout",
          "text": [
            "x의 값을 입력하시오.:1\n",
            "y의 값을 입력하시오.:2\n",
            "z의 값을 입력하시오.:3\n",
            "x의 값은 2이며, y의 값은 3이고, z의 값은 4이다.\n"
          ]
        }
      ]
    },
    {
      "cell_type": "markdown",
      "source": [
        "2. 알바생의 시급과 시간을 계산하여 월급을 출력하는 코드x = int(input(\"x의 값을 입력하시오.:\"))\n",
        "x = int(input(\"y의 값을 입력하시오.:\"))\n",
        "x = int(input(\"z의 값을 입력하시오.:\"))\n",
        "x = x + 1\n",
        "y = y + 1\n",
        "z = z + 1\n",
        "print (f'x의 값은 {x}이며, y의 값은 {y}이고, z의 값은 {z}이다.')"
      ],
      "metadata": {
        "id": "rx2FLWvpJM6i"
      }
    },
    {
      "cell_type": "code",
      "source": [
        "hours_worked = int(input(\"일한 시간을 입력하시오:\"))\n",
        "pay_rate = int(input(\"시급을 입력하시오(23기준 9620원)\"))\n",
        "monthly_pay = hours_worked * pay_rate\n",
        "print(f'일한시간은 {hours_worked}이고, 시급은 {pay_rate}원이며, 월급여는 {monthly_pay}원 입니다.')"
      ],
      "metadata": {
        "colab": {
          "base_uri": "https://localhost:8080/"
        },
        "id": "S_U4RFhrKJaR",
        "outputId": "6995e2b9-9eac-441e-e548-fdab3a8c13bb"
      },
      "execution_count": null,
      "outputs": [
        {
          "output_type": "stream",
          "name": "stdout",
          "text": [
            "일한 시간을 입력하시오:10\n",
            "시급을 입력하시오(23기준 9620원)9620\n",
            "일한시간은 10이고, 시급은 9620원이며, 월급여는 96200원 입니다.\n"
          ]
        }
      ]
    },
    {
      "cell_type": "markdown",
      "source": [
        "3. 환율 계산하는 코드작성\n",
        "- 원의 변수는 won\n",
        "- 달러의 변수는 usd\n",
        "- 환전의 변수는 exchange"
      ],
      "metadata": {
        "id": "igFum5ITLmls"
      }
    },
    {
      "cell_type": "code",
      "source": [
        "won = int(input(\"환전할 금액을 입력(kor):\"))\n",
        "usd = int(input(\"현재 달러의 환율을 입력(231031: 1372):\"))\n",
        "exchange = won * usd\n",
        "print(f'환전할 금액은 {won}이며, 달러 금액은 {usd}이고, 환전금액은 {exchange}입니다.')"
      ],
      "metadata": {
        "colab": {
          "base_uri": "https://localhost:8080/"
        },
        "id": "jtPOciqHMAU5",
        "outputId": "d8d7385f-44e7-4f04-e996-208d1baa36d0"
      },
      "execution_count": null,
      "outputs": [
        {
          "output_type": "stream",
          "name": "stdout",
          "text": [
            "환전할 금액을 입력(kor):5000\n",
            "현재 달러의 환율을 입력(231031: 1372):1372\n",
            "환전할 금액은 5000이며, 달러 금액은 1372이고, 환전금액은 6860000입니다.\n"
          ]
        }
      ]
    },
    {
      "cell_type": "markdown",
      "source": [
        "4. 화씨를(fahrenhelt)를 섭씨(celcius)로 변환하는 코드"
      ],
      "metadata": {
        "id": "VsdMrj2qN_Lh"
      }
    },
    {
      "cell_type": "markdown",
      "source": [
        "fahrenhelt = int(input(\"화씨온도를 입력하시오.:\"))\n",
        "celcius = (fahrenhelt - 32) / 1.8\n",
        "print(f'화씨온도는 {fahrenhelt}, 섭씨 {celcius}입니다.')"
      ],
      "metadata": {
        "id": "EYhJFgE8Oe0x"
      }
    },
    {
      "cell_type": "code",
      "source": [
        "celcius = int(input(\"섭씨온도를 입력하시오.:\"))\n",
        "fahrenhelt = (celcius * 1.8) + 32\n",
        "print(f'섭씨온도는 {celcius}도는, 화씨 {fahrenhelt}도 입니다.')"
      ],
      "metadata": {
        "colab": {
          "base_uri": "https://localhost:8080/"
        },
        "id": "f4GJwv27PuhJ",
        "outputId": "e447dd72-bc88-4536-cdc5-840b70d0124d"
      },
      "execution_count": 9,
      "outputs": [
        {
          "output_type": "stream",
          "name": "stdout",
          "text": [
            "섭씨온도를 입력하시오.:37\n",
            "섭씨온도는 37도는, 화씨 98.60000000000001도 입니다.\n"
          ]
        }
      ]
    },
    {
      "cell_type": "markdown",
      "source": [
        "5. 사용자로부터 2개의 정수를 받아서 합계를 출력"
      ],
      "metadata": {
        "id": "tkiX71p2U28C"
      }
    },
    {
      "cell_type": "code",
      "source": [
        "print(\"정수 2개를 입력하시오\")\n",
        "x = int(input(\"x의 값을 입력하시오.:\"))\n",
        "y = int(input(\"y의 값을 입력하시오.:\"))\n",
        "sum = x + y\n",
        "print(\"x + y의 합계는\", sum)\n",
        "\n"
      ],
      "metadata": {
        "colab": {
          "base_uri": "https://localhost:8080/"
        },
        "id": "08QqkkAKU_sp",
        "outputId": "b4dfc1d6-46b0-48f1-a33e-7865e514f14e"
      },
      "execution_count": 11,
      "outputs": [
        {
          "output_type": "stream",
          "name": "stdout",
          "text": [
            "정수 2개를 입력하시오\n",
            "x의 값을 입력하시오.:76\n",
            "y의 값을 입력하시오.:34\n",
            "x + y의 합계는 110\n"
          ]
        }
      ]
    },
    {
      "cell_type": "markdown",
      "source": [
        "6. 부가세 계산"
      ],
      "metadata": {
        "id": "Q_ycfNTwWrht"
      }
    },
    {
      "cell_type": "code",
      "source": [
        "print(\"상품의 가격을 입력하시오.\")\n",
        "price = int(input(\"가격을 입력하시오.:\"))\n",
        "vat = price * 0.1\n",
        "print(\"해당 값의 VAT 값은\", vat,\"이다\")"
      ],
      "metadata": {
        "colab": {
          "base_uri": "https://localhost:8080/"
        },
        "id": "voU_--CTWver",
        "outputId": "d7ef35b8-0351-4c73-c023-aa71912864f4"
      },
      "execution_count": 13,
      "outputs": [
        {
          "output_type": "stream",
          "name": "stdout",
          "text": [
            "상품의 가격을 입력하시오.\n",
            "가격을 입력하시오.:3000\n",
            "해당 값의 VAT 값은 300.0 이다\n"
          ]
        }
      ]
    }
  ]
}